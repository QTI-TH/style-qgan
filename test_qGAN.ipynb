{
 "cells": [
  {
   "cell_type": "code",
   "execution_count": 1,
   "metadata": {},
   "outputs": [
    {
     "name": "stderr",
     "output_type": "stream",
     "text": [
      "[Qibo|WARNING|2021-03-28 10:24:17]: Custom operators not found, skipping custom operators load.\n",
      "[Qibo|WARNING|2021-03-28 10:24:17]: Removing custom operators from available backends.\n",
      "[Qibo|WARNING|2021-03-28 10:24:17]: Einsum will be used to apply gates with tensorflow.\n"
     ]
    }
   ],
   "source": [
    "import numpy as np\n",
    "from qibo import gates, hamiltonians, models\n",
    "from scipy.optimize import minimize\n",
    "from sklearn.datasets import load_digits\n",
    "import matplotlib.pyplot as plt\n",
    "import argparse"
   ]
  },
  {
   "cell_type": "code",
   "execution_count": 2,
   "metadata": {},
   "outputs": [],
   "source": [
    "def hamiltonian(nqubits):\n",
    "        m0 = (1/nqubits)*hamiltonians.Z(nqubits, numpy=True).matrix\n",
    "        ham = hamiltonians.Hamiltonian(nqubits, m0)\n",
    "        return ham\n",
    "    \n",
    "def generator(params, x):\n",
    "    circuit = models.Circuit(nqubits)\n",
    "    circuit.add(gates.RY(0, params[0]*x + params[1]))\n",
    "    circuit.add(gates.RY(1, params[2]*x + params[3]))\n",
    "    circuit.add(gates.CZ(0, 1))\n",
    "    circuit.add(gates.RY(0, params[4]*x + params[5]))\n",
    "    circuit.add(gates.RY(1, params[6]*x + params[7]))\n",
    "    circuit.add(gates.CZ(0, 1))\n",
    "    circuit.add(gates.RY(0, params[8]*x + params[9]))\n",
    "    circuit.add(gates.RY(1, params[10]*x + params[11]))\n",
    "    return circuit\n",
    "    \n",
    "def cost_generator(params, opt_params_disc, count):\n",
    "    #run discriminator\n",
    "    fake_state = discriminator(opt_params_disc).execute(np.copy(generator(params).execute()))\n",
    "    prob_fake_true = (encoder.expectation(fake_state).numpy().real + 1)/2\n",
    "    cost = -prob_fake_true\n",
    "                \n",
    "    if count[0] % 10 == 0:\n",
    "        print('Prob fake as real: ', (encoder.expectation(fake_state).numpy().real + 1)/2)\n",
    "        print(count[0], cost)\n",
    "    count[0] += 1      \n",
    "        \n",
    "    return cost\n",
    "\n",
    "def discriminator(params, x):\n",
    "    circuit = models.Circuit(nqubits)\n",
    "    circuit.add(gates.RY(0, params[0]))\n",
    "    return circuit\n",
    "        \n",
    "def cost_discriminator(params, opt_params_gen, count):\n",
    "    cost = 0\n",
    "    #run real data\n",
    "    real_state = discriminator(params).execute(np.copy(initial_state([0.5]).execute()))\n",
    "    prob_real_true = (1 - encoder.expectation(real_state).numpy().real)/2\n",
    "    #run fake data\n",
    "    fake_state = discriminator(params).execute(np.copy(generator(opt_params_gen).execute()))\n",
    "    prob_fake_true = (1 - encoder.expectation(fake_state).numpy().real)/2\n",
    "\n",
    "    cost = prob_fake_true - prob_real_true\n",
    "        \n",
    "    if count[0] % 10 == 0:\n",
    "        print(count[0], cost)\n",
    "        print('Prob real as real: ', (encoder.expectation(real_state).numpy().real + 1)/2)\n",
    "        print('Prob fake as real: ', (encoder.expectation(fake_state).numpy().real + 1)/2)\n",
    "    count[0] += 1\n",
    "        \n",
    "    return cost\n",
    "\n",
    "def sample_gaussian(mu, sigma, samples, bins):\n",
    "    s = np.random.normal(mu, sigma, samples)\n",
    "    count, bins, ignored = plt.hist(s, bins)\n",
    "    return count, bins\n"
   ]
  },
  {
   "cell_type": "code",
   "execution_count": 3,
   "metadata": {},
   "outputs": [],
   "source": [
    "nqubits = 2\n",
    "encoder = hamiltonian(nqubits)\n",
    "nparams_gen = 12\n",
    "nparams_disc = 1\n",
    "initial_params_disc = np.random.uniform(0, 2*np.pi, nparams_disc)\n",
    "initial_params_gen = np.random.uniform(0, 2*np.pi, nparams_gen)"
   ]
  },
  {
   "cell_type": "code",
   "execution_count": 4,
   "metadata": {},
   "outputs": [
    {
     "data": {
      "image/png": "[encoded data removed]",
      "text/plain": [
       "<Figure size 432x288 with 1 Axes>"
      ]
     },
     "metadata": {
      "needs_background": "light"
     },
     "output_type": "display_data"
    }
   ],
   "source": [
    "real_gaussian = []\n",
    "bins = np.linspace(-1.0, 1.0, 21)\n",
    "for i in range(50):\n",
    "    count, bins = sample_gaussian(0, 0.25, 200, bins)\n",
    "    real_gaussian.append(count)"
   ]
  },
  {
   "cell_type": "code",
   "execution_count": 5,
   "metadata": {},
   "outputs": [
    {
     "data": {
      "image/png": "[encoded data removed]",
      "text/plain": [
       "<Figure size 432x288 with 1 Axes>"
      ]
     },
     "metadata": {
      "needs_background": "light"
     },
     "output_type": "display_data"
    }
   ],
   "source": [
    "fake_gaussian = []\n",
    "for j in range(50):\n",
    "    fake_gaussian_sampling = []\n",
    "    for i in range(200):\n",
    "        x = np.random.uniform(-1, 1)\n",
    "        fake_sample = encoder.expectation(generator(initial_params_gen, x).execute()).numpy().real\n",
    "        fake_gaussian_sampling.append(fake_sample)\n",
    "    count, bins, ignored = plt.hist(fake_gaussian_sampling, bins)\n",
    "    fake_gaussian.append(count)"
   ]
  },
  {
   "cell_type": "code",
   "execution_count": 6,
   "metadata": {},
   "outputs": [
    {
     "data": {
      "text/plain": [
       "\"\\ncount = [0]\\nprint('\\n Discriminator results: ')\\nresult_disc = minimize(lambda p: cost_discriminator(p, initial_params_gen, count), initial_params,\\n                          method='BFGS', options={'maxiter': 1.0e3})\\nprint('Final parameters: ', result_disc.x)\\nprint('Final cost function: ', result_disc.fun)\\n    \\nprint('\\n Generator results: ')\\nresult_gen = minimize(lambda p: cost_generator(p, result_disc.x, count), initial_params_gen,\\n                          method='BFGS', options={'maxiter': 1.0e3})\\nprint('Final parameters: ', result_gen.x)\\nprint('Final cost function: ', result_gen.fun)\\n\\nfor i in range(15):\\n\\n    print('\\n Discriminator results: ')\\n    result_disc = minimize(lambda p: cost_discriminator(p, result_gen.x, count), result_disc.x,\\n                          method='BFGS', options={'maxiter': 1.0e3})\\n    print('Final parameters: ', result_disc.x)\\n    print('Final cost function: ', result_disc.fun)\\n\\n    print('\\n Generator results: ')\\n    result_gen = minimize(lambda p: cost_generator(p, result_disc.x, count), result_gen.x,\\n                          method='BFGS', options={'maxiter': 1.0e3})\\n    print('Final parameters: ', result_gen.x)\\n    print('Final cost function: ', result_gen.fun)\\n\""
      ]
     },
     "execution_count": 6,
     "metadata": {},
     "output_type": "execute_result"
    }
   ],
   "source": [
    "\"\"\"\n",
    "count = [0]\n",
    "print('\\n Discriminator results: ')\n",
    "result_disc = minimize(lambda p: cost_discriminator(p, initial_params_gen, count), initial_params,\n",
    "                          method='BFGS', options={'maxiter': 1.0e3})\n",
    "print('Final parameters: ', result_disc.x)\n",
    "print('Final cost function: ', result_disc.fun)\n",
    "    \n",
    "print('\\n Generator results: ')\n",
    "result_gen = minimize(lambda p: cost_generator(p, result_disc.x, count), initial_params_gen,\n",
    "                          method='BFGS', options={'maxiter': 1.0e3})\n",
    "print('Final parameters: ', result_gen.x)\n",
    "print('Final cost function: ', result_gen.fun)\n",
    "\n",
    "for i in range(15):\n",
    "\n",
    "    print('\\n Discriminator results: ')\n",
    "    result_disc = minimize(lambda p: cost_discriminator(p, result_gen.x, count), result_disc.x,\n",
    "                          method='BFGS', options={'maxiter': 1.0e3})\n",
    "    print('Final parameters: ', result_disc.x)\n",
    "    print('Final cost function: ', result_disc.fun)\n",
    "\n",
    "    print('\\n Generator results: ')\n",
    "    result_gen = minimize(lambda p: cost_generator(p, result_disc.x, count), result_gen.x,\n",
    "                          method='BFGS', options={'maxiter': 1.0e3})\n",
    "    print('Final parameters: ', result_gen.x)\n",
    "    print('Final cost function: ', result_gen.fun)\n",
    "\"\"\""
   ]
  }
 ],
 "metadata": {
  "kernelspec": {
   "display_name": "Python 3",
   "language": "python",
   "name": "python3"
  },
  "language_info": {
   "codemirror_mode": {
    "name": "ipython",
    "version": 3
   },
   "file_extension": ".py",
   "mimetype": "text/x-python",
   "name": "python",
   "nbconvert_exporter": "python",
   "pygments_lexer": "ipython3",
   "version": "3.7.3"
  }
 },
 "nbformat": 4,
 "nbformat_minor": 2
}
