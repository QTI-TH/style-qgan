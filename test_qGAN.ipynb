{
 "cells": [
  {
   "cell_type": "code",
   "execution_count": null,
   "metadata": {},
   "outputs": [],
   "source": [
    "import numpy as np\n",
    "from qibo import gates, hamiltonians, models\n",
    "from scipy.optimize import minimize\n",
    "from sklearn.datasets import load_digits\n",
    "import matplotlib.pyplot as plt\n",
    "import argparse"
   ]
  },
  {
   "cell_type": "code",
   "execution_count": null,
   "metadata": {},
   "outputs": [],
   "source": [
    "def hamiltonian(nqubits):\n",
    "        m0 = (1/nqubits)*hamiltonians.Z(nqubits, numpy=True).matrix\n",
    "        ham = hamiltonians.Hamiltonian(nqubits, m0)\n",
    "        return ham\n",
    "    \n",
    "def generator(params, x):\n",
    "    circuit = models.Circuit(nqubits)\n",
    "    circuit.add(gates.RY(0, params[0]*x + params[1]))\n",
    "    circuit.add(gates.RY(1, params[2]*x + params[3]))\n",
    "    circuit.add(gates.CZ(0, 1))\n",
    "    circuit.add(gates.RY(0, params[4]*x + params[5]))\n",
    "    circuit.add(gates.RY(1, params[6]*x + params[7]))\n",
    "    circuit.add(gates.CZ(0, 1))\n",
    "    circuit.add(gates.RY(0, params[8]*x + params[9]))\n",
    "    circuit.add(gates.RY(1, params[10]*x + params[11]))\n",
    "    return circuit\n",
    "    \n",
    "def cost_generator(params, opt_params_disc, samples, bins, count):\n",
    "    cost = 0\n",
    "    #run generator\n",
    "    shots_fake = sample_generator(params, samples, bins)\n",
    "    #run discriminator\n",
    "    for i in range(len(mean_bins)):\n",
    "        state = discriminator(opt_params_disc, mean_bins[i]).execute()\n",
    "        probs = (1 - encoder.expectation(state).numpy().real)/2\n",
    "        cost -= shots_fake[i]*probs\n",
    "                \n",
    "    if count[0] % 1 == 0:\n",
    "        print(count[0], cost)\n",
    "    count[0] += 1      \n",
    "        \n",
    "    return cost\n",
    "\n",
    "def discriminator(params, x):\n",
    "    circuit = models.Circuit(nqubits)\n",
    "    circuit.add(gates.RY(0, params[0]*x + params[1]))\n",
    "    circuit.add(gates.RY(1, params[2]*x + params[3]))\n",
    "    circuit.add(gates.CZ(0, 1))\n",
    "    circuit.add(gates.RY(0, params[4]*x + params[5]))\n",
    "    circuit.add(gates.RY(1, params[6]*x + params[7]))\n",
    "    circuit.add(gates.CZ(0, 1))\n",
    "    circuit.add(gates.RY(0, params[8]*x + params[9]))\n",
    "    circuit.add(gates.RY(1, params[10]*x + params[11]))\n",
    "    circuit.add(gates.CZ(0, 1))\n",
    "    circuit.add(gates.RY(0, params[12]*x + params[13]))\n",
    "    circuit.add(gates.RY(1, params[14]*x + params[15]))\n",
    "    return circuit\n",
    "        \n",
    "def cost_discriminator(params, opt_params_gen, shots_real, shots_fake, count):\n",
    "    cost = 0\n",
    "    for i in range(len(mean_bins)):\n",
    "        #run real and fake data\n",
    "        state = discriminator(params, mean_bins[i]).execute()\n",
    "        probs = (1 - encoder.expectation(state).numpy().real)/2\n",
    "        cost += (shots_fake[i]-shots_real[i])*probs\n",
    "        \n",
    "    if count[0] % 50 == 0:\n",
    "        print(count[0], cost)\n",
    "    count[0] += 1\n",
    "        \n",
    "    return cost\n",
    "\n",
    "def sample_gaussian(mu, sigma, samples, bins):\n",
    "    s = np.random.normal(mu, sigma, samples)\n",
    "    count, bins = np.histogram(s, bins)\n",
    "    return count\n",
    "\n",
    "def sample_generator(params, samples, bins):\n",
    "    fake_gaussian_sampling = []\n",
    "    for i in range(samples):\n",
    "        x = np.random.uniform(-1, 1)\n",
    "        fake_sample = encoder.expectation(generator(params, x).execute()).numpy().real\n",
    "        fake_gaussian_sampling.append(fake_sample)\n",
    "    count, bins = np.histogram(fake_gaussian_sampling, bins)\n",
    "    return count"
   ]
  },
  {
   "cell_type": "code",
   "execution_count": null,
   "metadata": {},
   "outputs": [],
   "source": [
    "nqubits = 2\n",
    "encoder = hamiltonian(nqubits)\n",
    "nparams_gen = 12\n",
    "nparams_disc = 16\n",
    "initial_params_disc = np.random.uniform(0, 2*np.pi, nparams_disc)\n",
    "initial_params_gen = np.random.uniform(0, 2*np.pi, nparams_gen)"
   ]
  },
  {
   "cell_type": "code",
   "execution_count": null,
   "metadata": {},
   "outputs": [],
   "source": [
    "samples = 2000\n",
    "bins = np.linspace(-1.0, 1.0, 21)\n",
    "mean_bins = np.linspace(-0.95, 0.95, 20)\n",
    "count_real = sample_gaussian(0, 0.25, samples, bins)\n",
    "print(count_real)"
   ]
  },
  {
   "cell_type": "code",
   "execution_count": null,
   "metadata": {},
   "outputs": [],
   "source": [
    "count_fake = sample_generator(initial_params_gen, samples, bins)\n",
    "print(count_fake)"
   ]
  },
  {
   "cell_type": "code",
   "execution_count": null,
   "metadata": {},
   "outputs": [],
   "source": [
    "count = [0]\n",
    "print('\\n Discriminator results: ')\n",
    "result_disc = minimize(lambda p: cost_discriminator(p, initial_params_gen, count_real, count_fake, count), initial_params_disc,\n",
    "                          method='Powell', options={'maxiter': 1e3, 'maxfev': 1e3})\n",
    "print('Final parameters: ', result_disc.x)\n",
    "print('Final cost function: ', result_disc.fun)\n",
    "\n",
    "count = [0]\n",
    "print('\\n Generator results: ')\n",
    "result_gen = minimize(lambda p: cost_generator(p, result_disc.x, samples, bins, count), initial_params_gen,\n",
    "                          method='Powell', options={'maxiter': 30, 'maxfev': 30})\n",
    "print('Final parameters: ', result_gen.x)\n",
    "print('Final cost function: ', result_gen.fun)"
   ]
  },
  {
   "cell_type": "code",
   "execution_count": null,
   "metadata": {},
   "outputs": [],
   "source": [
    "count_fake = sample_generator(result_gen.x, samples, bins)\n",
    "print(count_fake)"
   ]
  },
  {
   "cell_type": "code",
   "execution_count": null,
   "metadata": {},
   "outputs": [],
   "source": [
    "for i in range(5):\n",
    "    count = [0]\n",
    "    print('\\n Discriminator results: ')\n",
    "    result_disc = minimize(lambda p: cost_discriminator(p, result_gen.x, count_real, count_fake, count), result_disc.x,\n",
    "                              method='Powell', options={'maxiter': 1e3, 'maxfev': 1e3})\n",
    "    print('Final parameters: ', result_disc.x)\n",
    "    print('Final cost function: ', result_disc.fun)\n",
    "    \n",
    "    count = [0]\n",
    "    print('\\n Generator results: ')\n",
    "    result_gen = minimize(lambda p: cost_generator(p, result_disc.x, samples, bins, count), result_gen.x,\n",
    "                              method='Powell', options={'maxiter': 30, 'maxfev': 30})\n",
    "    print('Final parameters: ', result_gen.x)\n",
    "    print('Final cost function: ', result_gen.fun)\n",
    "    \n",
    "    count_fake = sample_generator(result_gen.x, samples, bins)\n",
    "    print(count_fake)"
   ]
  }
 ],
 "metadata": {
  "kernelspec": {
   "display_name": "Python 3",
   "language": "python",
   "name": "python3"
  },
  "language_info": {
   "codemirror_mode": {
    "name": "ipython",
    "version": 3
   },
   "file_extension": ".py",
   "mimetype": "text/x-python",
   "name": "python",
   "nbconvert_exporter": "python",
   "pygments_lexer": "ipython3",
   "version": "3.7.3"
  }
 },
 "nbformat": 4,
 "nbformat_minor": 2
}
